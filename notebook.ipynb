{
 "cells": [
  {
   "cell_type": "code",
   "execution_count": 3,
   "metadata": {},
   "outputs": [],
   "source": [
    "import os\n",
    "import pandas as pd\n",
    "from sklearn.pipeline import Pipeline, make_pipeline\n",
    "from sklearn.preprocessing import OneHotEncoder, StandardScaler, OrdinalEncoder\n",
    "from sklearn.compose import ColumnTransformer\n",
    "from sklearn.model_selection import train_test_split\n",
    "from sklearn.linear_model import LogisticRegression\n",
    "from sklearn.cluster import KMeans\n",
    "from sklearn.metrics import confusion_matrix, accuracy_score, f1_score\n",
    "import seaborn as sns\n",
    "from category_encoders.target_encoder import TargetEncoder\n",
    "from sklearn.utils import resample"
   ]
  },
  {
   "attachments": {},
   "cell_type": "markdown",
   "metadata": {},
   "source": [
    "# Loading and cleaning data"
   ]
  },
  {
   "cell_type": "code",
   "execution_count": 4,
   "metadata": {},
   "outputs": [
    {
     "data": {
      "text/html": [
       "<div>\n",
       "<style scoped>\n",
       "    .dataframe tbody tr th:only-of-type {\n",
       "        vertical-align: middle;\n",
       "    }\n",
       "\n",
       "    .dataframe tbody tr th {\n",
       "        vertical-align: top;\n",
       "    }\n",
       "\n",
       "    .dataframe thead th {\n",
       "        text-align: right;\n",
       "    }\n",
       "</style>\n",
       "<table border=\"1\" class=\"dataframe\">\n",
       "  <thead>\n",
       "    <tr style=\"text-align: right;\">\n",
       "      <th></th>\n",
       "      <th>auctionId</th>\n",
       "      <th>timeStamp</th>\n",
       "      <th>placementId</th>\n",
       "      <th>websiteId</th>\n",
       "      <th>hashedRefererDeepThree</th>\n",
       "      <th>country</th>\n",
       "      <th>operatingSystem</th>\n",
       "      <th>browser</th>\n",
       "      <th>browserVersion</th>\n",
       "      <th>device</th>\n",
       "      <th>environmentType</th>\n",
       "      <th>integrationType</th>\n",
       "      <th>articleSafenessCategorization</th>\n",
       "      <th>isSold</th>\n",
       "    </tr>\n",
       "  </thead>\n",
       "  <tbody>\n",
       "    <tr>\n",
       "      <th>0</th>\n",
       "      <td>001ed16b-dd08-4599-b8ef-4f56a373c454_6e5f1087-...</td>\n",
       "      <td>1603815466</td>\n",
       "      <td>120706</td>\n",
       "      <td>68203</td>\n",
       "      <td>1ae7c2d3c28b711c072d8e2eb3869fa59090669bdc153e...</td>\n",
       "      <td>US</td>\n",
       "      <td>Windows</td>\n",
       "      <td>Chrome</td>\n",
       "      <td>86_0</td>\n",
       "      <td>PC</td>\n",
       "      <td>js-web</td>\n",
       "      <td>2</td>\n",
       "      <td>safe</td>\n",
       "      <td>False</td>\n",
       "    </tr>\n",
       "    <tr>\n",
       "      <th>1</th>\n",
       "      <td>0024b36a-4fb5-4070-88fb-fc0bfb1909ed</td>\n",
       "      <td>1603974586</td>\n",
       "      <td>69454</td>\n",
       "      <td>42543</td>\n",
       "      <td>df1108bf6ae49dbccf5eab60ff9d04a6a09dda60ec7290...</td>\n",
       "      <td>RO</td>\n",
       "      <td>Android</td>\n",
       "      <td>Facebook App</td>\n",
       "      <td>293_0</td>\n",
       "      <td>Phone</td>\n",
       "      <td>js-fbwv</td>\n",
       "      <td>1</td>\n",
       "      <td>unsafe</td>\n",
       "      <td>False</td>\n",
       "    </tr>\n",
       "  </tbody>\n",
       "</table>\n",
       "</div>"
      ],
      "text/plain": [
       "                                           auctionId   timeStamp  placementId  \\\n",
       "0  001ed16b-dd08-4599-b8ef-4f56a373c454_6e5f1087-...  1603815466       120706   \n",
       "1               0024b36a-4fb5-4070-88fb-fc0bfb1909ed  1603974586        69454   \n",
       "\n",
       "   websiteId                             hashedRefererDeepThree country  \\\n",
       "0      68203  1ae7c2d3c28b711c072d8e2eb3869fa59090669bdc153e...      US   \n",
       "1      42543  df1108bf6ae49dbccf5eab60ff9d04a6a09dda60ec7290...      RO   \n",
       "\n",
       "  operatingSystem       browser browserVersion device environmentType  \\\n",
       "0         Windows        Chrome           86_0     PC          js-web   \n",
       "1         Android  Facebook App          293_0  Phone         js-fbwv   \n",
       "\n",
       "   integrationType articleSafenessCategorization  isSold  \n",
       "0                2                          safe   False  \n",
       "1                1                        unsafe   False  "
      ]
     },
     "execution_count": 4,
     "metadata": {},
     "output_type": "execute_result"
    }
   ],
   "source": [
    "# data_train = pd.read_csv(\"train.csv\", nrows=100000).rename(\n",
    "data_train = pd.read_csv(\"train.csv\").rename(\n",
    "    columns={\"opeartingSystem\": \"operatingSystem\"}).fillna(\"unknown\")\n",
    "\n",
    "data_test = pd.read_csv(\"test.csv\").rename(\n",
    "    columns={\"opeartingSystem\": \"operatingSystem\"}).fillna(\"unknown\")\n",
    "\n",
    "data_train.head(2)"
   ]
  },
  {
   "attachments": {},
   "cell_type": "markdown",
   "metadata": {},
   "source": [
    "## Feature engineering"
   ]
  },
  {
   "cell_type": "code",
   "execution_count": 6,
   "metadata": {},
   "outputs": [
    {
     "data": {
      "text/plain": [
       "<AxesSubplot:xlabel='timeStamp_hour', ylabel='Count'>"
      ]
     },
     "execution_count": 6,
     "metadata": {},
     "output_type": "execute_result"
    },
    {
     "data": {
      "image/png": "[encoded data removed]",
      "text/plain": [
       "<Figure size 640x480 with 1 Axes>"
      ]
     },
     "metadata": {},
     "output_type": "display_data"
    }
   ],
   "source": [
    "# Not necessarily high correlation \n",
    "# sns.histplot(data_train, x=\"timeStamp\", hue=\"isSold\")\n",
    "\n",
    "for df in [data_train, data_test]:\n",
    "    df[\"timeStamp\"] = pd.to_datetime(df[\"timeStamp\"], unit='s')\n",
    "    df[\"timeStamp_day\"] = df[\"timeStamp\"].apply(lambda date: date.day)\n",
    "    df[\"timeStamp_hour\"] = df[\"timeStamp\"].apply(lambda date: date.hour)\n",
    "\n",
    "sns.histplot(data_train, x=\"timeStamp_hour\", hue=\"isSold\")"
   ]
  },
  {
   "attachments": {},
   "cell_type": "markdown",
   "metadata": {},
   "source": [
    "## Split train and test data"
   ]
  },
  {
   "cell_type": "code",
   "execution_count": 7,
   "metadata": {},
   "outputs": [
    {
     "name": "stdout",
     "output_type": "stream",
     "text": [
      "<class 'pandas.core.frame.DataFrame'>\n",
      "RangeIndex: 967332 entries, 0 to 967331\n",
      "Data columns (total 12 columns):\n",
      " #   Column                         Non-Null Count   Dtype \n",
      "---  ------                         --------------   ----- \n",
      " 0   placementId                    967332 non-null  int64 \n",
      " 1   websiteId                      967332 non-null  int64 \n",
      " 2   country                        967332 non-null  object\n",
      " 3   operatingSystem                967332 non-null  object\n",
      " 4   browser                        967332 non-null  object\n",
      " 5   browserVersion                 967332 non-null  object\n",
      " 6   device                         967332 non-null  object\n",
      " 7   environmentType                967332 non-null  object\n",
      " 8   integrationType                967332 non-null  int64 \n",
      " 9   articleSafenessCategorization  967332 non-null  object\n",
      " 10  timeStamp_hour                 967332 non-null  int64 \n",
      " 11  timeStamp_day                  967332 non-null  int64 \n",
      "dtypes: int64(5), object(7)\n",
      "memory usage: 88.6+ MB\n"
     ]
    }
   ],
   "source": [
    "features = [\"placementId\", \"websiteId\", \"country\", \"operatingSystem\", \"browser\", \n",
    "                 \"browserVersion\", \"device\", \"environmentType\", \"integrationType\",\n",
    "                 \"articleSafenessCategorization\", \"timeStamp_hour\", \"timeStamp_day\"]\n",
    "\n",
    "X_train = data_train[features]\n",
    "y_train = data_train[\"isSold\"]\n",
    "\n",
    "X_test = data_test[features]\n",
    "\n",
    "X_train.info()"
   ]
  },
  {
   "cell_type": "code",
   "execution_count": 8,
   "metadata": {},
   "outputs": [
    {
     "name": "stdout",
     "output_type": "stream",
     "text": [
      "auctionId ==== 967332\n",
      "timeStamp ==== 473036\n",
      "placementId ==== 11162\n",
      "websiteId ==== 7315\n",
      "hashedRefererDeepThree ==== 127625\n",
      "country ==== 216\n",
      "operatingSystem ==== 15\n",
      "browser ==== 121\n",
      "browserVersion ==== 640\n",
      "device ==== 4\n",
      "environmentType ==== 14\n",
      "integrationType ==== 2\n",
      "articleSafenessCategorization ==== 3\n",
      "isSold ==== 2\n",
      "timeStamp_day ==== 7\n",
      "timeStamp_hour ==== 24\n"
     ]
    }
   ],
   "source": [
    "# Number of unique values in a column\n",
    "for col in data_train.columns:\n",
    "    print(col, \"====\", len(data_train[col].unique()))"
   ]
  },
  {
   "attachments": {},
   "cell_type": "markdown",
   "metadata": {},
   "source": [
    "## Generate more synthetic True samples - not used now"
   ]
  },
  {
   "cell_type": "code",
   "execution_count": 26,
   "metadata": {},
   "outputs": [],
   "source": [
    "# from imblearn.over_sampling import SMOTE, SMOTENC\n",
    "\n",
    "# sm = SMOTE(sampling_strategy=1.0)\n",
    "# X_train_train, y_train_train = sm.fit_resample(X_train_train, y_train_train)\n",
    "# X_train_train, y_train_train = sm.fit_resample(X_train_train, y_train_train)\n",
    "\n",
    "# sm = SMOTENC(categorical_features=[2,3,4,5,6,7,8,10], sampling_strategy=1.0)\n",
    "# sm.fit_resample(X_train.iloc[:100000], y_train.iloc[:100000])"
   ]
  },
  {
   "attachments": {},
   "cell_type": "markdown",
   "metadata": {},
   "source": [
    "## Downsamping"
   ]
  },
  {
   "cell_type": "code",
   "execution_count": 9,
   "metadata": {},
   "outputs": [
    {
     "data": {
      "text/plain": [
       "False    433907\n",
       "True     433907\n",
       "Name: count, dtype: int64"
      ]
     },
     "execution_count": 9,
     "metadata": {},
     "output_type": "execute_result"
    }
   ],
   "source": [
    "X_train_not_sold = X_train[y_train == False]\n",
    "X_train_sold = X_train[y_train == True]\n",
    "\n",
    "X_train_downsampled = resample(X_train_not_sold,\n",
    "                                replace = False, # sample without replacement\n",
    "                                n_samples = len(X_train_sold))\n",
    "\n",
    "# combine minority and downsampled majority\n",
    "X_train_downsampled = pd.concat([X_train_downsampled, X_train_sold])\n",
    "y_train_downsampled = pd.Series([False for _ in range(len(X_train_sold))] + [True for _ in range(len(X_train_sold))]) \n",
    "\n",
    "# checking counts\n",
    "y_train_downsampled.value_counts()"
   ]
  },
  {
   "cell_type": "code",
   "execution_count": 10,
   "metadata": {},
   "outputs": [],
   "source": [
    "# X_train_train, X_train_test, y_train_train, y_train_test = train_test_split(X_train, y_train)\n",
    "X_train_train, X_train_test, y_train_train, y_train_test = \\\n",
    "    train_test_split(X_train_downsampled, y_train_downsampled)\n"
   ]
  },
  {
   "attachments": {},
   "cell_type": "markdown",
   "metadata": {},
   "source": [
    "# Preprocessing pipeline"
   ]
  },
  {
   "cell_type": "code",
   "execution_count": 11,
   "metadata": {},
   "outputs": [],
   "source": [
    "# target_encoder = TargetEncoder().fit(X_train[\"hashedRefererDeepThree\"], y_train)"
   ]
  },
  {
   "cell_type": "code",
   "execution_count": 12,
   "metadata": {},
   "outputs": [],
   "source": [
    "onehot_features = [\"country\", \"operatingSystem\", \"browser\", \n",
    "      \"device\", \"environmentType\", \"articleSafenessCategorization\", \"browserVersion\", \n",
    "      \"placementId\", \"websiteId\", ]\n",
    "targetenc_features = [\"hashedRefererDeepThree\"]\n",
    "scaler_features = [\"integrationType\", \"timeStamp_day\", \"timeStamp_hour\"]\n",
    "\n",
    "preprocessor = ColumnTransformer([\n",
    "    (\"one_hot_encoder\", OneHotEncoder(handle_unknown=\"ignore\"), onehot_features),\n",
    "    #  (\"target_encoder\", make_pipeline(TargetEncoder(), StandardScaler()), targetenc_features),\n",
    "    #  (\"standard_scaler\", StandardScaler(), scaler_features)\n",
    "], remainder=\"passthrough\")"
   ]
  },
  {
   "cell_type": "code",
   "execution_count": 13,
   "metadata": {},
   "outputs": [],
   "source": [
    "# parameter_space = {\n",
    "#     'hidden_layer_sizes': [(10,30,10),(20,)],\n",
    "#     'activation': ['relu'],\n",
    "#     'solver': ['adam'],\n",
    "#     'alpha': [0.0001, 0.005],\n",
    "#     'learning_rate': ['constant','adaptive'],\n",
    "# }\n",
    "\n",
    "\n",
    "model = Pipeline([\n",
    "    (\"preprocessor\", preprocessor),\n",
    "    # (\"kmeans\", KMeans(n_clusters=2, max_iter=200))\n",
    "    # (\"random_forest\", RandomForestClassifier(n_estimators=100, \n",
    "                                            #  max_depth=20))\n",
    "    # (\"random_forest\", RandomForestClassifier())\n",
    "    (\"logistic_regression\", LogisticRegression(max_iter=10000))\n",
    "    # (\"svm\", SVC(kernel=\"linear\"))\n",
    "    # (\"mlp\", MLPClassifier(hidden_layer_sizes=[90, 90], \n",
    "    #                       learning_rate=\"adaptive\", \n",
    "    #                       ))\n",
    "    # (\"gridsearch\", GridSearchCV(MLPClassifier(), parameter_space, n_jobs=-1, cv=5))\n",
    "])"
   ]
  },
  {
   "cell_type": "code",
   "execution_count": 15,
   "metadata": {},
   "outputs": [
    {
     "name": "stdout",
     "output_type": "stream",
     "text": [
      "0 one_hot_encoder__country_AD\n",
      "1 one_hot_encoder__country_AE\n",
      "2 one_hot_encoder__country_AG\n",
      "3 one_hot_encoder__country_AI\n",
      "4 one_hot_encoder__country_AL\n",
      "5 one_hot_encoder__country_AM\n",
      "6 one_hot_encoder__country_AO\n",
      "7 one_hot_encoder__country_AR\n",
      "8 one_hot_encoder__country_AS\n",
      "9 one_hot_encoder__country_AT\n",
      "10 one_hot_encoder__country_AU\n",
      "11 one_hot_encoder__country_AW\n",
      "12 one_hot_encoder__country_AX\n",
      "13 one_hot_encoder__country_AZ\n",
      "14 one_hot_encoder__country_BA\n",
      "15 one_hot_encoder__country_BB\n",
      "16 one_hot_encoder__country_BD\n",
      "17 one_hot_encoder__country_BE\n",
      "18 one_hot_encoder__country_BF\n",
      "19 one_hot_encoder__country_BG\n"
     ]
    }
   ],
   "source": [
    "# preprocessor test\n",
    "res = preprocessor.fit_transform(X_train_train, y_train_train)\n",
    "for i, line in enumerate(preprocessor.get_feature_names_out()):\n",
    "    if i < 20:\n",
    "        print(i, line)\n",
    "# res.toarray()[0]"
   ]
  },
  {
   "attachments": {},
   "cell_type": "markdown",
   "metadata": {},
   "source": [
    "# Fitting the model and prediction"
   ]
  },
  {
   "cell_type": "code",
   "execution_count": 67,
   "metadata": {},
   "outputs": [
    {
     "data": {
      "text/html": [
       "<style>#sk-container-id-5 {color: black;background-color: white;}#sk-container-id-5 pre{padding: 0;}#sk-container-id-5 div.sk-toggleable {background-color: white;}#sk-container-id-5 label.sk-toggleable__label {cursor: pointer;display: block;width: 100%;margin-bottom: 0;padding: 0.3em;box-sizing: border-box;text-align: center;}#sk-container-id-5 label.sk-toggleable__label-arrow:before {content: \"▸\";float: left;margin-right: 0.25em;color: #696969;}#sk-container-id-5 label.sk-toggleable__label-arrow:hover:before {color: black;}#sk-container-id-5 div.sk-estimator:hover label.sk-toggleable__label-arrow:before {color: black;}#sk-container-id-5 div.sk-toggleable__content {max-height: 0;max-width: 0;overflow: hidden;text-align: left;background-color: #f0f8ff;}#sk-container-id-5 div.sk-toggleable__content pre {margin: 0.2em;color: black;border-radius: 0.25em;background-color: #f0f8ff;}#sk-container-id-5 input.sk-toggleable__control:checked~div.sk-toggleable__content {max-height: 200px;max-width: 100%;overflow: auto;}#sk-container-id-5 input.sk-toggleable__control:checked~label.sk-toggleable__label-arrow:before {content: \"▾\";}#sk-container-id-5 div.sk-estimator input.sk-toggleable__control:checked~label.sk-toggleable__label {background-color: #d4ebff;}#sk-container-id-5 div.sk-label input.sk-toggleable__control:checked~label.sk-toggleable__label {background-color: #d4ebff;}#sk-container-id-5 input.sk-hidden--visually {border: 0;clip: rect(1px 1px 1px 1px);clip: rect(1px, 1px, 1px, 1px);height: 1px;margin: -1px;overflow: hidden;padding: 0;position: absolute;width: 1px;}#sk-container-id-5 div.sk-estimator {font-family: monospace;background-color: #f0f8ff;border: 1px dotted black;border-radius: 0.25em;box-sizing: border-box;margin-bottom: 0.5em;}#sk-container-id-5 div.sk-estimator:hover {background-color: #d4ebff;}#sk-container-id-5 div.sk-parallel-item::after {content: \"\";width: 100%;border-bottom: 1px solid gray;flex-grow: 1;}#sk-container-id-5 div.sk-label:hover label.sk-toggleable__label {background-color: #d4ebff;}#sk-container-id-5 div.sk-serial::before {content: \"\";position: absolute;border-left: 1px solid gray;box-sizing: border-box;top: 0;bottom: 0;left: 50%;z-index: 0;}#sk-container-id-5 div.sk-serial {display: flex;flex-direction: column;align-items: center;background-color: white;padding-right: 0.2em;padding-left: 0.2em;position: relative;}#sk-container-id-5 div.sk-item {position: relative;z-index: 1;}#sk-container-id-5 div.sk-parallel {display: flex;align-items: stretch;justify-content: center;background-color: white;position: relative;}#sk-container-id-5 div.sk-item::before, #sk-container-id-5 div.sk-parallel-item::before {content: \"\";position: absolute;border-left: 1px solid gray;box-sizing: border-box;top: 0;bottom: 0;left: 50%;z-index: -1;}#sk-container-id-5 div.sk-parallel-item {display: flex;flex-direction: column;z-index: 1;position: relative;background-color: white;}#sk-container-id-5 div.sk-parallel-item:first-child::after {align-self: flex-end;width: 50%;}#sk-container-id-5 div.sk-parallel-item:last-child::after {align-self: flex-start;width: 50%;}#sk-container-id-5 div.sk-parallel-item:only-child::after {width: 0;}#sk-container-id-5 div.sk-dashed-wrapped {border: 1px dashed gray;margin: 0 0.4em 0.5em 0.4em;box-sizing: border-box;padding-bottom: 0.4em;background-color: white;}#sk-container-id-5 div.sk-label label {font-family: monospace;font-weight: bold;display: inline-block;line-height: 1.2em;}#sk-container-id-5 div.sk-label-container {text-align: center;}#sk-container-id-5 div.sk-container {/* jupyter's `normalize.less` sets `[hidden] { display: none; }` but bootstrap.min.css set `[hidden] { display: none !important; }` so we also need the `!important` here to be able to override the default hidden behavior on the sphinx rendered scikit-learn.org. See: https://github.com/scikit-learn/scikit-learn/issues/21755 */display: inline-block !important;position: relative;}#sk-container-id-5 div.sk-text-repr-fallback {display: none;}</style><div id=\"sk-container-id-5\" class=\"sk-top-container\"><div class=\"sk-text-repr-fallback\"><pre>Pipeline(steps=[(&#x27;preprocessor&#x27;,\n",
       "                 ColumnTransformer(remainder=&#x27;passthrough&#x27;,\n",
       "                                   transformers=[(&#x27;one_hot_encoder&#x27;,\n",
       "                                                  OneHotEncoder(handle_unknown=&#x27;ignore&#x27;),\n",
       "                                                  [&#x27;country&#x27;, &#x27;operatingSystem&#x27;,\n",
       "                                                   &#x27;browser&#x27;, &#x27;device&#x27;,\n",
       "                                                   &#x27;environmentType&#x27;,\n",
       "                                                   &#x27;articleSafenessCategorization&#x27;,\n",
       "                                                   &#x27;browserVersion&#x27;,\n",
       "                                                   &#x27;placementId&#x27;,\n",
       "                                                   &#x27;websiteId&#x27;])])),\n",
       "                (&#x27;logistic_regression&#x27;, LogisticRegression(max_iter=10000))])</pre><b>In a Jupyter environment, please rerun this cell to show the HTML representation or trust the notebook. <br />On GitHub, the HTML representation is unable to render, please try loading this page with nbviewer.org.</b></div><div class=\"sk-container\" hidden><div class=\"sk-item sk-dashed-wrapped\"><div class=\"sk-label-container\"><div class=\"sk-label sk-toggleable\"><input class=\"sk-toggleable__control sk-hidden--visually\" id=\"sk-estimator-id-33\" type=\"checkbox\" ><label for=\"sk-estimator-id-33\" class=\"sk-toggleable__label sk-toggleable__label-arrow\">Pipeline</label><div class=\"sk-toggleable__content\"><pre>Pipeline(steps=[(&#x27;preprocessor&#x27;,\n",
       "                 ColumnTransformer(remainder=&#x27;passthrough&#x27;,\n",
       "                                   transformers=[(&#x27;one_hot_encoder&#x27;,\n",
       "                                                  OneHotEncoder(handle_unknown=&#x27;ignore&#x27;),\n",
       "                                                  [&#x27;country&#x27;, &#x27;operatingSystem&#x27;,\n",
       "                                                   &#x27;browser&#x27;, &#x27;device&#x27;,\n",
       "                                                   &#x27;environmentType&#x27;,\n",
       "                                                   &#x27;articleSafenessCategorization&#x27;,\n",
       "                                                   &#x27;browserVersion&#x27;,\n",
       "                                                   &#x27;placementId&#x27;,\n",
       "                                                   &#x27;websiteId&#x27;])])),\n",
       "                (&#x27;logistic_regression&#x27;, LogisticRegression(max_iter=10000))])</pre></div></div></div><div class=\"sk-serial\"><div class=\"sk-item sk-dashed-wrapped\"><div class=\"sk-label-container\"><div class=\"sk-label sk-toggleable\"><input class=\"sk-toggleable__control sk-hidden--visually\" id=\"sk-estimator-id-34\" type=\"checkbox\" ><label for=\"sk-estimator-id-34\" class=\"sk-toggleable__label sk-toggleable__label-arrow\">preprocessor: ColumnTransformer</label><div class=\"sk-toggleable__content\"><pre>ColumnTransformer(remainder=&#x27;passthrough&#x27;,\n",
       "                  transformers=[(&#x27;one_hot_encoder&#x27;,\n",
       "                                 OneHotEncoder(handle_unknown=&#x27;ignore&#x27;),\n",
       "                                 [&#x27;country&#x27;, &#x27;operatingSystem&#x27;, &#x27;browser&#x27;,\n",
       "                                  &#x27;device&#x27;, &#x27;environmentType&#x27;,\n",
       "                                  &#x27;articleSafenessCategorization&#x27;,\n",
       "                                  &#x27;browserVersion&#x27;, &#x27;placementId&#x27;,\n",
       "                                  &#x27;websiteId&#x27;])])</pre></div></div></div><div class=\"sk-parallel\"><div class=\"sk-parallel-item\"><div class=\"sk-item\"><div class=\"sk-label-container\"><div class=\"sk-label sk-toggleable\"><input class=\"sk-toggleable__control sk-hidden--visually\" id=\"sk-estimator-id-35\" type=\"checkbox\" ><label for=\"sk-estimator-id-35\" class=\"sk-toggleable__label sk-toggleable__label-arrow\">one_hot_encoder</label><div class=\"sk-toggleable__content\"><pre>[&#x27;country&#x27;, &#x27;operatingSystem&#x27;, &#x27;browser&#x27;, &#x27;device&#x27;, &#x27;environmentType&#x27;, &#x27;articleSafenessCategorization&#x27;, &#x27;browserVersion&#x27;, &#x27;placementId&#x27;, &#x27;websiteId&#x27;]</pre></div></div></div><div class=\"sk-serial\"><div class=\"sk-item\"><div class=\"sk-estimator sk-toggleable\"><input class=\"sk-toggleable__control sk-hidden--visually\" id=\"sk-estimator-id-36\" type=\"checkbox\" ><label for=\"sk-estimator-id-36\" class=\"sk-toggleable__label sk-toggleable__label-arrow\">OneHotEncoder</label><div class=\"sk-toggleable__content\"><pre>OneHotEncoder(handle_unknown=&#x27;ignore&#x27;)</pre></div></div></div></div></div></div><div class=\"sk-parallel-item\"><div class=\"sk-item\"><div class=\"sk-label-container\"><div class=\"sk-label sk-toggleable\"><input class=\"sk-toggleable__control sk-hidden--visually\" id=\"sk-estimator-id-37\" type=\"checkbox\" ><label for=\"sk-estimator-id-37\" class=\"sk-toggleable__label sk-toggleable__label-arrow\">remainder</label><div class=\"sk-toggleable__content\"><pre>[&#x27;integrationType&#x27;, &#x27;timeStamp_hour&#x27;, &#x27;timeStamp_day&#x27;]</pre></div></div></div><div class=\"sk-serial\"><div class=\"sk-item\"><div class=\"sk-estimator sk-toggleable\"><input class=\"sk-toggleable__control sk-hidden--visually\" id=\"sk-estimator-id-38\" type=\"checkbox\" ><label for=\"sk-estimator-id-38\" class=\"sk-toggleable__label sk-toggleable__label-arrow\">passthrough</label><div class=\"sk-toggleable__content\"><pre>passthrough</pre></div></div></div></div></div></div></div></div><div class=\"sk-item\"><div class=\"sk-estimator sk-toggleable\"><input class=\"sk-toggleable__control sk-hidden--visually\" id=\"sk-estimator-id-39\" type=\"checkbox\" ><label for=\"sk-estimator-id-39\" class=\"sk-toggleable__label sk-toggleable__label-arrow\">LogisticRegression</label><div class=\"sk-toggleable__content\"><pre>LogisticRegression(max_iter=10000)</pre></div></div></div></div></div></div></div>"
      ],
      "text/plain": [
       "Pipeline(steps=[('preprocessor',\n",
       "                 ColumnTransformer(remainder='passthrough',\n",
       "                                   transformers=[('one_hot_encoder',\n",
       "                                                  OneHotEncoder(handle_unknown='ignore'),\n",
       "                                                  ['country', 'operatingSystem',\n",
       "                                                   'browser', 'device',\n",
       "                                                   'environmentType',\n",
       "                                                   'articleSafenessCategorization',\n",
       "                                                   'browserVersion',\n",
       "                                                   'placementId',\n",
       "                                                   'websiteId'])])),\n",
       "                ('logistic_regression', LogisticRegression(max_iter=10000))])"
      ]
     },
     "execution_count": 67,
     "metadata": {},
     "output_type": "execute_result"
    }
   ],
   "source": [
    "model.fit(X_train_train, y_train_train)"
   ]
  },
  {
   "cell_type": "code",
   "execution_count": 68,
   "metadata": {},
   "outputs": [
    {
     "name": "stdout",
     "output_type": "stream",
     "text": [
      "Accuracy:  0.7775104400011063\n",
      "F1 Score:  0.7784844980450466\n"
     ]
    }
   ],
   "source": [
    "y_train_pred = model.predict(X_train_test)\n",
    "print(\"Accuracy: \", accuracy_score(y_train_test, y_train_pred))\n",
    "print(\"F1 Score: \", f1_score(y_train_test, y_train_pred))"
   ]
  },
  {
   "attachments": {},
   "cell_type": "markdown",
   "metadata": {},
   "source": [
    "# Results"
   ]
  },
  {
   "cell_type": "code",
   "execution_count": 69,
   "metadata": {},
   "outputs": [
    {
     "data": {
      "text/plain": [
       "[Text(0.5, 23.52222222222222, 'Predicted label'),\n",
       " Text(50.722222222222214, 0.5, 'True label')]"
      ]
     },
     "execution_count": 69,
     "metadata": {},
     "output_type": "execute_result"
    },
    {
     "data": {
      "image/png": "[encoded data removed]",
      "text/plain": [
       "<Figure size 640x480 with 2 Axes>"
      ]
     },
     "metadata": {},
     "output_type": "display_data"
    }
   ],
   "source": [
    "cm = confusion_matrix(y_train_test, y_train_pred)\n",
    "sns.heatmap(cm, annot=True, cmap=sns.color_palette(\"flare\", as_cmap=True), \n",
    "            fmt='d').set(xlabel=\"Predicted label\", ylabel=\"True label\")"
   ]
  },
  {
   "cell_type": "code",
   "execution_count": 71,
   "metadata": {},
   "outputs": [],
   "source": [
    "y_pred = model.predict(X_test)\n",
    "submission = data_test[[\"auctionId\"]].copy()\n",
    "submission[\"isSold\"] = y_pred\n",
    "submission[\"isSold\"] = submission[\"isSold\"].map({True: 'true', False: 'false'}) \n",
    "submission.to_csv(\"submission.csv\", index=False)"
   ]
  }
 ],
 "metadata": {
  "kernelspec": {
   "display_name": "Python 3",
   "language": "python",
   "name": "python3"
  },
  "language_info": {
   "codemirror_mode": {
    "name": "ipython",
    "version": 3
   },
   "file_extension": ".py",
   "mimetype": "text/x-python",
   "name": "python",
   "nbconvert_exporter": "python",
   "pygments_lexer": "ipython3",
   "version": "3.9.5"
  },
  "orig_nbformat": 4
 },
 "nbformat": 4,
 "nbformat_minor": 2
}
